{
 "cells": [
  {
   "cell_type": "code",
   "execution_count": 1,
   "id": "5721b7c2",
   "metadata": {},
   "outputs": [],
   "source": [
    "#Imorting the Libraries\n",
    "import cv2 as cv\n",
    "import time\n",
    "import numpy as np\n",
    "import mediapipe as mp\n",
    "from playsound import playsound"
   ]
  },
  {
   "cell_type": "code",
   "execution_count": null,
   "id": "745607c9",
   "metadata": {},
   "outputs": [],
   "source": [
    "#Getting the required functions form mediapipe\n",
    "mp_pose = mp.solutions.pose\n",
    "mp_drawing = mp.solutions.drawing_utils"
   ]
  },
  {
   "cell_type": "code",
   "execution_count": null,
   "id": "bdc30b79",
   "metadata": {},
   "outputs": [],
   "source": [
    "image1 = cv.imread('GreenLight.png')  ##Reading the Green light Image\n",
    "image2 = cv.imread('RedLight.png')   ##Reading the Red light Image\n",
    "\n",
    "currImage = image1"
   ]
  },
  {
   "cell_type": "code",
   "execution_count": null,
   "id": "c6e6fd95",
   "metadata": {},
   "outputs": [],
   "source": [
    "#Calculating the area of the all landmarks \n",
    "def calc_sum(landmarkList):\n",
    "    \n",
    "    cur_sum = 0\n",
    "    for i in range(0,33):\n",
    "        cur_sum+=(landmarkList[i].x * 480)\n",
    "    \n",
    "    return cur_sum"
   ]
  },
  {
   "cell_type": "code",
   "execution_count": null,
   "id": "208f563c",
   "metadata": {},
   "outputs": [],
   "source": [
    "#Caculating the distance between the legs to progress the movement\n",
    "def calc_dist(landmarkList):\n",
    "    return (landmarkList[28].y*640 - landmarkList[24].y*640)"
   ]
  },
  {
   "cell_type": "code",
   "execution_count": null,
   "id": "113e3191",
   "metadata": {},
   "outputs": [],
   "source": [
    "#Checking the visibility of person\n",
    "def isVisible(landmarkList):\n",
    "    if (landmarkList[28].visibility > 0.6) and (landmarkList[24].visibility > 0.6):\n",
    "        return 1\n",
    "    return 0"
   ]
  },
  {
   "cell_type": "code",
   "execution_count": null,
   "id": "6f5ec29f",
   "metadata": {},
   "outputs": [],
   "source": [
    "cPos = 0 #Position of the person in the game\n",
    "startTime = 0  #Starting time after doll rotated\n",
    "endTime = 0 #End time before doll rotate himsel\n",
    "userSum = 0 #Storing all landmarks area\n",
    "dur = 0 #Duration of total game\n",
    "isAlive = 1 #Checking if alive or not in the game\n",
    "isInit = False\n",
    "cStart, cEnd = 0,0\n",
    "isCinit = False\n",
    "tempSum = 0 #Maintaining the tempsum of all landmarks\n",
    "winner = 0 #Maintaining the Winner status\n",
    "inFrame = 0 #Checking in frame or not\n",
    "inFramecheck = False\n",
    "thresh = 180 #Maintaining the threshold of movement\n",
    "\n",
    "capture = cv.VideoCapture(0)\n",
    "while True:\n",
    "    \n",
    "    ret,frame = capture.read()\n",
    "    RGBframe = cv.cvtColor(frame,cv.COLOR_BGR2RGB)\n",
    "    results = mp_pose.Pose().process(RGBframe)\n",
    "    frame = cv.blur(frame,(5,5))\n",
    "    mp_drawing.draw_landmarks(frame,results.pose_landmarks,mp_pose.POSE_CONNECTIONS,\n",
    "                             mp_drawing.DrawingSpec(color=(245,117,66),thickness=2,circle_radius=4),\n",
    "                             mp_drawing.DrawingSpec(color=(245,66,230),thickness=2,circle_radius=2)\n",
    "                             )\n",
    "    \n",
    "    if not(inFramecheck):\n",
    "        try:\n",
    "            if isVisible(results.pose_landmarks.landmark):\n",
    "                inFrame=1\n",
    "                inFramecheck=True\n",
    "            else:\n",
    "                inFrame = 0\n",
    "        except:\n",
    "            print(\"You are not visible at all\")\n",
    "            \n",
    "    if inFrame==1:\n",
    "        if not(isInit):\n",
    "            playsound('DollMusic.mp3')\n",
    "            currImage = image1\n",
    "            startTime = time.time()\n",
    "            endTime = startTime\n",
    "            isInit = True\n",
    "            \n",
    "        if (endTime - startTime) <=5:\n",
    "            try:\n",
    "                m = calc_dist(results.pose_landmarks.landmark)\n",
    "                if m < thresh:\n",
    "                    cPos +=1\n",
    "                \n",
    "                print(\"Current Progress is:\", cPos)\n",
    "            except:\n",
    "                print(\"Not Visible\")\n",
    "            \n",
    "            endTime = time.time()\n",
    "        else:\n",
    "            if cPos>= 100:\n",
    "                print(\"Winner\")\n",
    "                winner=1\n",
    "            else:\n",
    "                if not(isCinit):\n",
    "                    isCinit = True\n",
    "                    cStart = time.time()\n",
    "                    cEnd = cStart\n",
    "                    currImage = image2\n",
    "                    playsound('DollScan.mp3')\n",
    "                    userSum = calc_sum(results.pose_landmarks.landmark)\n",
    "                \n",
    "                if (cEnd - cStart) <=5:\n",
    "                    tempSum = calc_sum(results.pose_landmarks.landmark)\n",
    "                    cEnd = time.time()\n",
    "                    if abs(tempSum - userSum) > 150:\n",
    "                        print(\"Dead\", abs (tempSum - userSum))\n",
    "                        isAlive = 0\n",
    "                else:\n",
    "                    isInit = False\n",
    "                    isCinit = False\n",
    "        \n",
    "        cv.circle(currImage, ((55+6*cPos),280),15,(0,0,255),-1)\n",
    "        \n",
    "        mainWin = np.concatenate((cv.resize(frame,(800,400)),currImage),axis=0)\n",
    "        cv.imshow(\"Squid Game\",mainWin)\n",
    "    else:\n",
    "        cv.putText(frame,\"Please Stay in a position where your body fully visible\",(20,200), cv.FONT_HERSHEY_SIMPLEX, 0.8, (0,255,0), 4)\n",
    "        cv.imshow(\"Frame\",frame)\n",
    "    \n",
    "    if (cv.waitKey(1) & 0xFF == ord('d')) or isAlive == 0 or winner == 1:\n",
    "        break\n",
    "capture.release()\n",
    "cv.destroyAllWindows()\n",
    "\n",
    "if isAlive == 0:\n",
    "    cv.putText(frame, \"You are Dead\", (50,200), cv.FONT_HERSHEY_SIMPLEX, 2, (0,0,255), 4)\n",
    "    cv.imshow(\"Squid Game\",frame)\n",
    "if winner == 1:\n",
    "    cv.putText(frm, \"You are Winner\", (50,200), cv.FONT_HERSHEY_SIMPLEX, 2, (0,255,0), 4)\n",
    "    cv.imshow(\"Squid Game\",frame)\n",
    "\n",
    "cv.waitKey(0)"
   ]
  },
  {
   "cell_type": "code",
   "execution_count": null,
   "id": "32dd4545",
   "metadata": {},
   "outputs": [],
   "source": [
    "capture.release()\n",
    "\n",
    "\n"
   ]
  },
  {
   "cell_type": "code",
   "execution_count": null,
   "id": "643924a6",
   "metadata": {},
   "outputs": [],
   "source": []
  },
  {
   "cell_type": "code",
   "execution_count": null,
   "id": "b96cab1b",
   "metadata": {},
   "outputs": [],
   "source": []
  },
  {
   "cell_type": "code",
   "execution_count": null,
   "id": "23b0e3a6",
   "metadata": {},
   "outputs": [],
   "source": []
  }
 ],
 "metadata": {
  "kernelspec": {
   "display_name": "Python 3 (ipykernel)",
   "language": "python",
   "name": "python3"
  },
  "language_info": {
   "codemirror_mode": {
    "name": "ipython",
    "version": 3
   },
   "file_extension": ".py",
   "mimetype": "text/x-python",
   "name": "python",
   "nbconvert_exporter": "python",
   "pygments_lexer": "ipython3",
   "version": "3.9.6"
  }
 },
 "nbformat": 4,
 "nbformat_minor": 5
}
